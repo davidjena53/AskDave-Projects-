{
  "nbformat": 4,
  "nbformat_minor": 0,
  "metadata": {
    "kernelspec": {
      "display_name": "Python 3",
      "language": "python",
      "name": "python3"
    },
    "language_info": {
      "codemirror_mode": {
        "name": "ipython",
        "version": 3
      },
      "file_extension": ".py",
      "mimetype": "text/x-python",
      "name": "python",
      "nbconvert_exporter": "python",
      "pygments_lexer": "ipython3",
      "version": "3.8.3"
    },
    "colab": {
      "name": "Data Science Research Project.ipynb",
      "provenance": [],
      "collapsed_sections": [
        "QLiMh-t-JTQG",
        "171koO2cJTQH",
        "qq0EV355JTQI",
        "WJ_lcBezJTQJ"
      ]
    }
  },
  "cells": [
    {
      "cell_type": "markdown",
      "metadata": {
        "id": "bgC0V1pDJTPv"
      },
      "source": [
        "# Research on the factors that determine the gross earnings of a movie.\n"
      ]
    },
    {
      "cell_type": "markdown",
      "metadata": {
        "id": "ywH4ygTyJTPy"
      },
      "source": [
        "## Step One: Read data file and import libraries"
      ]
    },
    {
      "cell_type": "markdown",
      "metadata": {
        "id": "mmZDWryrJTPy"
      },
      "source": [
        "To build the model we will make use of some libraries:\n",
        "(i) Pandas - To make accessing and transforming our data fast\n",
        "(ii) Scipy - This is make the intrepretation of the output easier \n",
        "(iii) Matplotlib - this is an essential tool for visualing our data \n",
        "\n",
        "We load the data from the CSV file into a variable called myfile"
      ]
    },
    {
      "cell_type": "code",
      "metadata": {
        "id": "T_hnBbuUJTPz"
      },
      "source": [
        "#reading relevant data from the csv file and storing it in a variable called myfile \n",
        "myfile='movie_metadata.csv'"
      ],
      "execution_count": null,
      "outputs": []
    },
    {
      "cell_type": "code",
      "metadata": {
        "scrolled": true,
        "id": "b-5IhmUMJTP2",
        "outputId": "e8901b4d-585d-410d-d679-998b8dace445"
      },
      "source": [
        "#standard imports for when working with pandas\n",
        "import numpy as np\n",
        "%matplotlib inline\n",
        "from matplotlib import pyplot as plt\n",
        "import pandas as pd\n",
        "\n",
        "myfile = 'movie_metadata.csv'\n",
        "\n",
        "\n",
        "#read data from a csv file\n",
        "df = pd.read_csv(myfile,index_col=None)\n",
        "df = df.replace('..','nan')\n",
        "\n",
        "#display the 'head' of the data\n",
        "df.head()"
      ],
      "execution_count": null,
      "outputs": [
        {
          "data": {
            "text/html": [
              "<div>\n",
              "<style scoped>\n",
              "    .dataframe tbody tr th:only-of-type {\n",
              "        vertical-align: middle;\n",
              "    }\n",
              "\n",
              "    .dataframe tbody tr th {\n",
              "        vertical-align: top;\n",
              "    }\n",
              "\n",
              "    .dataframe thead th {\n",
              "        text-align: right;\n",
              "    }\n",
              "</style>\n",
              "<table border=\"1\" class=\"dataframe\">\n",
              "  <thead>\n",
              "    <tr style=\"text-align: right;\">\n",
              "      <th></th>\n",
              "      <th>color</th>\n",
              "      <th>director_name</th>\n",
              "      <th>num_critic_for_reviews</th>\n",
              "      <th>duration</th>\n",
              "      <th>director_facebook_likes</th>\n",
              "      <th>actor_3_facebook_likes</th>\n",
              "      <th>actor_2_name</th>\n",
              "      <th>actor_1_facebook_likes</th>\n",
              "      <th>gross</th>\n",
              "      <th>genres</th>\n",
              "      <th>...</th>\n",
              "      <th>num_user_for_reviews</th>\n",
              "      <th>language</th>\n",
              "      <th>country</th>\n",
              "      <th>content_rating</th>\n",
              "      <th>budget</th>\n",
              "      <th>title_year</th>\n",
              "      <th>actor_2_facebook_likes</th>\n",
              "      <th>imdb_score</th>\n",
              "      <th>aspect_ratio</th>\n",
              "      <th>movie_facebook_likes</th>\n",
              "    </tr>\n",
              "  </thead>\n",
              "  <tbody>\n",
              "    <tr>\n",
              "      <th>0</th>\n",
              "      <td>Color</td>\n",
              "      <td>James Cameron</td>\n",
              "      <td>723.0</td>\n",
              "      <td>178.0</td>\n",
              "      <td>0.0</td>\n",
              "      <td>855.0</td>\n",
              "      <td>Joel David Moore</td>\n",
              "      <td>1000.0</td>\n",
              "      <td>760505847.0</td>\n",
              "      <td>Action|Adventure|Fantasy|Sci-Fi</td>\n",
              "      <td>...</td>\n",
              "      <td>3054.0</td>\n",
              "      <td>English</td>\n",
              "      <td>USA</td>\n",
              "      <td>PG-13</td>\n",
              "      <td>237000000.0</td>\n",
              "      <td>2009.0</td>\n",
              "      <td>936.0</td>\n",
              "      <td>7.9</td>\n",
              "      <td>1.78</td>\n",
              "      <td>33000</td>\n",
              "    </tr>\n",
              "    <tr>\n",
              "      <th>1</th>\n",
              "      <td>Color</td>\n",
              "      <td>Gore Verbinski</td>\n",
              "      <td>302.0</td>\n",
              "      <td>169.0</td>\n",
              "      <td>563.0</td>\n",
              "      <td>1000.0</td>\n",
              "      <td>Orlando Bloom</td>\n",
              "      <td>40000.0</td>\n",
              "      <td>309404152.0</td>\n",
              "      <td>Action|Adventure|Fantasy</td>\n",
              "      <td>...</td>\n",
              "      <td>1238.0</td>\n",
              "      <td>English</td>\n",
              "      <td>USA</td>\n",
              "      <td>PG-13</td>\n",
              "      <td>300000000.0</td>\n",
              "      <td>2007.0</td>\n",
              "      <td>5000.0</td>\n",
              "      <td>7.1</td>\n",
              "      <td>2.35</td>\n",
              "      <td>0</td>\n",
              "    </tr>\n",
              "    <tr>\n",
              "      <th>2</th>\n",
              "      <td>Color</td>\n",
              "      <td>Sam Mendes</td>\n",
              "      <td>602.0</td>\n",
              "      <td>148.0</td>\n",
              "      <td>0.0</td>\n",
              "      <td>161.0</td>\n",
              "      <td>Rory Kinnear</td>\n",
              "      <td>11000.0</td>\n",
              "      <td>200074175.0</td>\n",
              "      <td>Action|Adventure|Thriller</td>\n",
              "      <td>...</td>\n",
              "      <td>994.0</td>\n",
              "      <td>English</td>\n",
              "      <td>UK</td>\n",
              "      <td>PG-13</td>\n",
              "      <td>245000000.0</td>\n",
              "      <td>2015.0</td>\n",
              "      <td>393.0</td>\n",
              "      <td>6.8</td>\n",
              "      <td>2.35</td>\n",
              "      <td>85000</td>\n",
              "    </tr>\n",
              "    <tr>\n",
              "      <th>3</th>\n",
              "      <td>Color</td>\n",
              "      <td>Christopher Nolan</td>\n",
              "      <td>813.0</td>\n",
              "      <td>164.0</td>\n",
              "      <td>22000.0</td>\n",
              "      <td>23000.0</td>\n",
              "      <td>Christian Bale</td>\n",
              "      <td>27000.0</td>\n",
              "      <td>448130642.0</td>\n",
              "      <td>Action|Thriller</td>\n",
              "      <td>...</td>\n",
              "      <td>2701.0</td>\n",
              "      <td>English</td>\n",
              "      <td>USA</td>\n",
              "      <td>PG-13</td>\n",
              "      <td>250000000.0</td>\n",
              "      <td>2012.0</td>\n",
              "      <td>23000.0</td>\n",
              "      <td>8.5</td>\n",
              "      <td>2.35</td>\n",
              "      <td>164000</td>\n",
              "    </tr>\n",
              "    <tr>\n",
              "      <th>4</th>\n",
              "      <td>NaN</td>\n",
              "      <td>Doug Walker</td>\n",
              "      <td>NaN</td>\n",
              "      <td>NaN</td>\n",
              "      <td>131.0</td>\n",
              "      <td>NaN</td>\n",
              "      <td>Rob Walker</td>\n",
              "      <td>131.0</td>\n",
              "      <td>NaN</td>\n",
              "      <td>Documentary</td>\n",
              "      <td>...</td>\n",
              "      <td>NaN</td>\n",
              "      <td>NaN</td>\n",
              "      <td>NaN</td>\n",
              "      <td>NaN</td>\n",
              "      <td>NaN</td>\n",
              "      <td>NaN</td>\n",
              "      <td>12.0</td>\n",
              "      <td>7.1</td>\n",
              "      <td>NaN</td>\n",
              "      <td>0</td>\n",
              "    </tr>\n",
              "  </tbody>\n",
              "</table>\n",
              "<p>5 rows × 28 columns</p>\n",
              "</div>"
            ],
            "text/plain": [
              "   color      director_name  num_critic_for_reviews  duration  \\\n",
              "0  Color      James Cameron                   723.0     178.0   \n",
              "1  Color     Gore Verbinski                   302.0     169.0   \n",
              "2  Color         Sam Mendes                   602.0     148.0   \n",
              "3  Color  Christopher Nolan                   813.0     164.0   \n",
              "4    NaN        Doug Walker                     NaN       NaN   \n",
              "\n",
              "   director_facebook_likes  actor_3_facebook_likes      actor_2_name  \\\n",
              "0                      0.0                   855.0  Joel David Moore   \n",
              "1                    563.0                  1000.0     Orlando Bloom   \n",
              "2                      0.0                   161.0      Rory Kinnear   \n",
              "3                  22000.0                 23000.0    Christian Bale   \n",
              "4                    131.0                     NaN        Rob Walker   \n",
              "\n",
              "   actor_1_facebook_likes        gross                           genres  ...  \\\n",
              "0                  1000.0  760505847.0  Action|Adventure|Fantasy|Sci-Fi  ...   \n",
              "1                 40000.0  309404152.0         Action|Adventure|Fantasy  ...   \n",
              "2                 11000.0  200074175.0        Action|Adventure|Thriller  ...   \n",
              "3                 27000.0  448130642.0                  Action|Thriller  ...   \n",
              "4                   131.0          NaN                      Documentary  ...   \n",
              "\n",
              "  num_user_for_reviews language  country  content_rating       budget  \\\n",
              "0               3054.0  English      USA           PG-13  237000000.0   \n",
              "1               1238.0  English      USA           PG-13  300000000.0   \n",
              "2                994.0  English       UK           PG-13  245000000.0   \n",
              "3               2701.0  English      USA           PG-13  250000000.0   \n",
              "4                  NaN      NaN      NaN             NaN          NaN   \n",
              "\n",
              "   title_year actor_2_facebook_likes imdb_score  aspect_ratio  \\\n",
              "0      2009.0                  936.0        7.9          1.78   \n",
              "1      2007.0                 5000.0        7.1          2.35   \n",
              "2      2015.0                  393.0        6.8          2.35   \n",
              "3      2012.0                23000.0        8.5          2.35   \n",
              "4         NaN                   12.0        7.1           NaN   \n",
              "\n",
              "  movie_facebook_likes  \n",
              "0                33000  \n",
              "1                    0  \n",
              "2                85000  \n",
              "3               164000  \n",
              "4                    0  \n",
              "\n",
              "[5 rows x 28 columns]"
            ]
          },
          "execution_count": 94,
          "metadata": {},
          "output_type": "execute_result"
        }
      ]
    },
    {
      "cell_type": "markdown",
      "metadata": {
        "id": "rYNVra0HJTP4"
      },
      "source": [
        "## Step Two : Clean the data "
      ]
    },
    {
      "cell_type": "markdown",
      "metadata": {
        "id": "6IyJSWTFJTP5"
      },
      "source": [
        "Checklist for cleaning the data:\n",
        "(i) Transform all values that we will be using into float object\n",
        "(ii) Double check that the column names are correct to avoid errors.\n",
        "(iii) Earlier I used the nan attribute to replace all missing values into 'nan'"
      ]
    },
    {
      "cell_type": "code",
      "metadata": {
        "id": "AfFKnyMwJTP5"
      },
      "source": [
        "def make_float_array(anylist):\n",
        "    newlist=[]\n",
        "    for item in anylist:\n",
        "        try:\n",
        "            #turn the item into a float and append it to the list\n",
        "            newlist.append(float(item))\n",
        "        except:\n",
        "            #what to do if anything in the try block causes a runtime error\n",
        "            #you could print out a warning message here or do nothing\n",
        "            \n",
        "            pass\n",
        "    #convert list to numpy array and return\n",
        "    #you could return the list, most numpy functions will work on lists of floats\n",
        "    #but each function call would result in numpy implicitly converting list to array\n",
        "    #which would result in slower performance\n",
        "    return np.array(newlist)  "
      ],
      "execution_count": null,
      "outputs": []
    },
    {
      "cell_type": "code",
      "metadata": {
        "id": "ZYuULRuaJTP6",
        "outputId": "dad9b796-16bd-45d9-b9f5-1fc567e86af5"
      },
      "source": [
        "gross=make_float_array(df['gross'])\n",
        "num_user_for_reviews=make_float_array(df['num_user_for_reviews'])\n",
        "budget=make_float_array(df['budget'])\n",
        "director_facebook_likes=make_float_array(df['director_facebook_likes'])\n",
        "imdb_score=make_float_array(df['imdb_score'])\n",
        "movie_facebook_likes=make_float_array(df['movie_facebook_likes'])\n",
        "\n",
        "\n",
        "\n",
        "\n",
        "df.head()"
      ],
      "execution_count": null,
      "outputs": [
        {
          "data": {
            "text/html": [
              "<div>\n",
              "<style scoped>\n",
              "    .dataframe tbody tr th:only-of-type {\n",
              "        vertical-align: middle;\n",
              "    }\n",
              "\n",
              "    .dataframe tbody tr th {\n",
              "        vertical-align: top;\n",
              "    }\n",
              "\n",
              "    .dataframe thead th {\n",
              "        text-align: right;\n",
              "    }\n",
              "</style>\n",
              "<table border=\"1\" class=\"dataframe\">\n",
              "  <thead>\n",
              "    <tr style=\"text-align: right;\">\n",
              "      <th></th>\n",
              "      <th>color</th>\n",
              "      <th>director_name</th>\n",
              "      <th>num_critic_for_reviews</th>\n",
              "      <th>duration</th>\n",
              "      <th>director_facebook_likes</th>\n",
              "      <th>actor_3_facebook_likes</th>\n",
              "      <th>actor_2_name</th>\n",
              "      <th>actor_1_facebook_likes</th>\n",
              "      <th>gross</th>\n",
              "      <th>genres</th>\n",
              "      <th>...</th>\n",
              "      <th>num_user_for_reviews</th>\n",
              "      <th>language</th>\n",
              "      <th>country</th>\n",
              "      <th>content_rating</th>\n",
              "      <th>budget</th>\n",
              "      <th>title_year</th>\n",
              "      <th>actor_2_facebook_likes</th>\n",
              "      <th>imdb_score</th>\n",
              "      <th>aspect_ratio</th>\n",
              "      <th>movie_facebook_likes</th>\n",
              "    </tr>\n",
              "  </thead>\n",
              "  <tbody>\n",
              "    <tr>\n",
              "      <th>0</th>\n",
              "      <td>Color</td>\n",
              "      <td>James Cameron</td>\n",
              "      <td>723.0</td>\n",
              "      <td>178.0</td>\n",
              "      <td>0.0</td>\n",
              "      <td>855.0</td>\n",
              "      <td>Joel David Moore</td>\n",
              "      <td>1000.0</td>\n",
              "      <td>760505847.0</td>\n",
              "      <td>Action|Adventure|Fantasy|Sci-Fi</td>\n",
              "      <td>...</td>\n",
              "      <td>3054.0</td>\n",
              "      <td>English</td>\n",
              "      <td>USA</td>\n",
              "      <td>PG-13</td>\n",
              "      <td>237000000.0</td>\n",
              "      <td>2009.0</td>\n",
              "      <td>936.0</td>\n",
              "      <td>7.9</td>\n",
              "      <td>1.78</td>\n",
              "      <td>33000</td>\n",
              "    </tr>\n",
              "    <tr>\n",
              "      <th>1</th>\n",
              "      <td>Color</td>\n",
              "      <td>Gore Verbinski</td>\n",
              "      <td>302.0</td>\n",
              "      <td>169.0</td>\n",
              "      <td>563.0</td>\n",
              "      <td>1000.0</td>\n",
              "      <td>Orlando Bloom</td>\n",
              "      <td>40000.0</td>\n",
              "      <td>309404152.0</td>\n",
              "      <td>Action|Adventure|Fantasy</td>\n",
              "      <td>...</td>\n",
              "      <td>1238.0</td>\n",
              "      <td>English</td>\n",
              "      <td>USA</td>\n",
              "      <td>PG-13</td>\n",
              "      <td>300000000.0</td>\n",
              "      <td>2007.0</td>\n",
              "      <td>5000.0</td>\n",
              "      <td>7.1</td>\n",
              "      <td>2.35</td>\n",
              "      <td>0</td>\n",
              "    </tr>\n",
              "    <tr>\n",
              "      <th>2</th>\n",
              "      <td>Color</td>\n",
              "      <td>Sam Mendes</td>\n",
              "      <td>602.0</td>\n",
              "      <td>148.0</td>\n",
              "      <td>0.0</td>\n",
              "      <td>161.0</td>\n",
              "      <td>Rory Kinnear</td>\n",
              "      <td>11000.0</td>\n",
              "      <td>200074175.0</td>\n",
              "      <td>Action|Adventure|Thriller</td>\n",
              "      <td>...</td>\n",
              "      <td>994.0</td>\n",
              "      <td>English</td>\n",
              "      <td>UK</td>\n",
              "      <td>PG-13</td>\n",
              "      <td>245000000.0</td>\n",
              "      <td>2015.0</td>\n",
              "      <td>393.0</td>\n",
              "      <td>6.8</td>\n",
              "      <td>2.35</td>\n",
              "      <td>85000</td>\n",
              "    </tr>\n",
              "    <tr>\n",
              "      <th>3</th>\n",
              "      <td>Color</td>\n",
              "      <td>Christopher Nolan</td>\n",
              "      <td>813.0</td>\n",
              "      <td>164.0</td>\n",
              "      <td>22000.0</td>\n",
              "      <td>23000.0</td>\n",
              "      <td>Christian Bale</td>\n",
              "      <td>27000.0</td>\n",
              "      <td>448130642.0</td>\n",
              "      <td>Action|Thriller</td>\n",
              "      <td>...</td>\n",
              "      <td>2701.0</td>\n",
              "      <td>English</td>\n",
              "      <td>USA</td>\n",
              "      <td>PG-13</td>\n",
              "      <td>250000000.0</td>\n",
              "      <td>2012.0</td>\n",
              "      <td>23000.0</td>\n",
              "      <td>8.5</td>\n",
              "      <td>2.35</td>\n",
              "      <td>164000</td>\n",
              "    </tr>\n",
              "    <tr>\n",
              "      <th>4</th>\n",
              "      <td>NaN</td>\n",
              "      <td>Doug Walker</td>\n",
              "      <td>NaN</td>\n",
              "      <td>NaN</td>\n",
              "      <td>131.0</td>\n",
              "      <td>NaN</td>\n",
              "      <td>Rob Walker</td>\n",
              "      <td>131.0</td>\n",
              "      <td>NaN</td>\n",
              "      <td>Documentary</td>\n",
              "      <td>...</td>\n",
              "      <td>NaN</td>\n",
              "      <td>NaN</td>\n",
              "      <td>NaN</td>\n",
              "      <td>NaN</td>\n",
              "      <td>NaN</td>\n",
              "      <td>NaN</td>\n",
              "      <td>12.0</td>\n",
              "      <td>7.1</td>\n",
              "      <td>NaN</td>\n",
              "      <td>0</td>\n",
              "    </tr>\n",
              "  </tbody>\n",
              "</table>\n",
              "<p>5 rows × 28 columns</p>\n",
              "</div>"
            ],
            "text/plain": [
              "   color      director_name  num_critic_for_reviews  duration  \\\n",
              "0  Color      James Cameron                   723.0     178.0   \n",
              "1  Color     Gore Verbinski                   302.0     169.0   \n",
              "2  Color         Sam Mendes                   602.0     148.0   \n",
              "3  Color  Christopher Nolan                   813.0     164.0   \n",
              "4    NaN        Doug Walker                     NaN       NaN   \n",
              "\n",
              "   director_facebook_likes  actor_3_facebook_likes      actor_2_name  \\\n",
              "0                      0.0                   855.0  Joel David Moore   \n",
              "1                    563.0                  1000.0     Orlando Bloom   \n",
              "2                      0.0                   161.0      Rory Kinnear   \n",
              "3                  22000.0                 23000.0    Christian Bale   \n",
              "4                    131.0                     NaN        Rob Walker   \n",
              "\n",
              "   actor_1_facebook_likes        gross                           genres  ...  \\\n",
              "0                  1000.0  760505847.0  Action|Adventure|Fantasy|Sci-Fi  ...   \n",
              "1                 40000.0  309404152.0         Action|Adventure|Fantasy  ...   \n",
              "2                 11000.0  200074175.0        Action|Adventure|Thriller  ...   \n",
              "3                 27000.0  448130642.0                  Action|Thriller  ...   \n",
              "4                   131.0          NaN                      Documentary  ...   \n",
              "\n",
              "  num_user_for_reviews language  country  content_rating       budget  \\\n",
              "0               3054.0  English      USA           PG-13  237000000.0   \n",
              "1               1238.0  English      USA           PG-13  300000000.0   \n",
              "2                994.0  English       UK           PG-13  245000000.0   \n",
              "3               2701.0  English      USA           PG-13  250000000.0   \n",
              "4                  NaN      NaN      NaN             NaN          NaN   \n",
              "\n",
              "   title_year actor_2_facebook_likes imdb_score  aspect_ratio  \\\n",
              "0      2009.0                  936.0        7.9          1.78   \n",
              "1      2007.0                 5000.0        7.1          2.35   \n",
              "2      2015.0                  393.0        6.8          2.35   \n",
              "3      2012.0                23000.0        8.5          2.35   \n",
              "4         NaN                   12.0        7.1           NaN   \n",
              "\n",
              "  movie_facebook_likes  \n",
              "0                33000  \n",
              "1                    0  \n",
              "2                85000  \n",
              "3               164000  \n",
              "4                    0  \n",
              "\n",
              "[5 rows x 28 columns]"
            ]
          },
          "execution_count": 176,
          "metadata": {},
          "output_type": "execute_result"
        }
      ]
    },
    {
      "cell_type": "markdown",
      "metadata": {
        "id": "pSXeIHItJTP6"
      },
      "source": [
        "## Step 3: Exploratory Data Analysis"
      ]
    },
    {
      "cell_type": "markdown",
      "metadata": {
        "id": "-fmRun6gJTP7"
      },
      "source": [
        "For our Exploratory Data Analysis we will focus on finding the type of relationship between two variables with one being the \n",
        "independent variable while the other is the dependent variable, in this case the \"gross\". Typically we will be checking for linearity between the two variables in order to understand whether increasing/decreasing one will lead to an increase/decrease in the other.\n",
        "\n",
        "Correlation of the two variables is computed to help us understand the type of relationship as well as how strong it is."
      ]
    },
    {
      "cell_type": "markdown",
      "metadata": {
        "id": "85M-yC_TJTP7"
      },
      "source": [
        "Testing linearity for budget (independent variable) and gross (dependent variable)"
      ]
    },
    {
      "cell_type": "code",
      "metadata": {
        "id": "xtXUCFoJJTP7"
      },
      "source": [
        "budget_relation = df[['budget','gross']]"
      ],
      "execution_count": null,
      "outputs": []
    },
    {
      "cell_type": "code",
      "metadata": {
        "scrolled": false,
        "id": "S0OWBx82JTP8",
        "outputId": "b1503de7-61e1-4e8f-dbbc-d3b626fc63b5"
      },
      "source": [
        "budget_relation.cov()"
      ],
      "execution_count": null,
      "outputs": [
        {
          "data": {
            "text/html": [
              "<div>\n",
              "<style scoped>\n",
              "    .dataframe tbody tr th:only-of-type {\n",
              "        vertical-align: middle;\n",
              "    }\n",
              "\n",
              "    .dataframe tbody tr th {\n",
              "        vertical-align: top;\n",
              "    }\n",
              "\n",
              "    .dataframe thead th {\n",
              "        text-align: right;\n",
              "    }\n",
              "</style>\n",
              "<table border=\"1\" class=\"dataframe\">\n",
              "  <thead>\n",
              "    <tr style=\"text-align: right;\">\n",
              "      <th></th>\n",
              "      <th>budget</th>\n",
              "      <th>gross</th>\n",
              "    </tr>\n",
              "  </thead>\n",
              "  <tbody>\n",
              "    <tr>\n",
              "      <th>budget</th>\n",
              "      <td>4.248335e+16</td>\n",
              "      <td>1.586166e+15</td>\n",
              "    </tr>\n",
              "    <tr>\n",
              "      <th>gross</th>\n",
              "      <td>1.586166e+15</td>\n",
              "      <td>4.685812e+15</td>\n",
              "    </tr>\n",
              "  </tbody>\n",
              "</table>\n",
              "</div>"
            ],
            "text/plain": [
              "              budget         gross\n",
              "budget  4.248335e+16  1.586166e+15\n",
              "gross   1.586166e+15  4.685812e+15"
            ]
          },
          "execution_count": 178,
          "metadata": {},
          "output_type": "execute_result"
        }
      ]
    },
    {
      "cell_type": "code",
      "metadata": {
        "id": "CYp0iD_8JTP8",
        "outputId": "44c79dc1-373c-4d11-8ab6-1ac39e3ee1a6"
      },
      "source": [
        "country_relation.corr()"
      ],
      "execution_count": null,
      "outputs": [
        {
          "data": {
            "text/html": [
              "<div>\n",
              "<style scoped>\n",
              "    .dataframe tbody tr th:only-of-type {\n",
              "        vertical-align: middle;\n",
              "    }\n",
              "\n",
              "    .dataframe tbody tr th {\n",
              "        vertical-align: top;\n",
              "    }\n",
              "\n",
              "    .dataframe thead th {\n",
              "        text-align: right;\n",
              "    }\n",
              "</style>\n",
              "<table border=\"1\" class=\"dataframe\">\n",
              "  <thead>\n",
              "    <tr style=\"text-align: right;\">\n",
              "      <th></th>\n",
              "      <th>budget</th>\n",
              "      <th>gross</th>\n",
              "    </tr>\n",
              "  </thead>\n",
              "  <tbody>\n",
              "    <tr>\n",
              "      <th>budget</th>\n",
              "      <td>1.000000</td>\n",
              "      <td>0.102179</td>\n",
              "    </tr>\n",
              "    <tr>\n",
              "      <th>gross</th>\n",
              "      <td>0.102179</td>\n",
              "      <td>1.000000</td>\n",
              "    </tr>\n",
              "  </tbody>\n",
              "</table>\n",
              "</div>"
            ],
            "text/plain": [
              "          budget     gross\n",
              "budget  1.000000  0.102179\n",
              "gross   0.102179  1.000000"
            ]
          },
          "execution_count": 179,
          "metadata": {},
          "output_type": "execute_result"
        }
      ]
    },
    {
      "cell_type": "markdown",
      "metadata": {
        "id": "BH78JPgcJTP9"
      },
      "source": [
        "Scatterplot for budget vs gross"
      ]
    },
    {
      "cell_type": "code",
      "metadata": {
        "id": "XlkZpaohJTP9",
        "outputId": "10238640-b10c-4a7f-a5fb-d75db65450bd"
      },
      "source": [
        "df.plot.scatter(x='budget', y ='gross')\n",
        "# make sure it's formatted.\n",
        "\n",
        "plt.title(\"Budget Vs. Gross\")\n",
        "plt.xlabel(\"Budget\")\n",
        "plt.ylabel(\"Gross\")\n",
        "\n",
        "\n",
        "plt.show()\n"
      ],
      "execution_count": null,
      "outputs": [
        {
          "data": {
            "image/png": "[encoded data removed]",
            "text/plain": [
              "<Figure size 432x288 with 1 Axes>"
            ]
          },
          "metadata": {},
          "output_type": "display_data"
        }
      ]
    },
    {
      "cell_type": "markdown",
      "metadata": {
        "id": "889oUVbFJTP-"
      },
      "source": [
        "The scatterplot Budget vs Gross shows that while the correlation is positive it is a very weak positive correlation as seen by the correlation coefficent of just 0.102. This leads us to understand that increasing the budget of the movie does not lead to an increase in the gross."
      ]
    },
    {
      "cell_type": "markdown",
      "metadata": {
        "id": "eNXEVe2eJTP-"
      },
      "source": [
        "Testing linearity for num_user_for_reviews (independent variable) and gross (dependent variable)"
      ]
    },
    {
      "cell_type": "code",
      "metadata": {
        "id": "1t8auw3tJTP-"
      },
      "source": [
        "review_relation = df[['num_user_for_reviews','gross']]"
      ],
      "execution_count": null,
      "outputs": []
    },
    {
      "cell_type": "code",
      "metadata": {
        "id": "W_guGfiCJTP_",
        "outputId": "feba93e3-1f37-47f1-d51b-ae196cb7f390"
      },
      "source": [
        "review_relation.cov()"
      ],
      "execution_count": null,
      "outputs": [
        {
          "data": {
            "text/html": [
              "<div>\n",
              "<style scoped>\n",
              "    .dataframe tbody tr th:only-of-type {\n",
              "        vertical-align: middle;\n",
              "    }\n",
              "\n",
              "    .dataframe tbody tr th {\n",
              "        vertical-align: top;\n",
              "    }\n",
              "\n",
              "    .dataframe thead th {\n",
              "        text-align: right;\n",
              "    }\n",
              "</style>\n",
              "<table border=\"1\" class=\"dataframe\">\n",
              "  <thead>\n",
              "    <tr style=\"text-align: right;\">\n",
              "      <th></th>\n",
              "      <th>num_user_for_reviews</th>\n",
              "      <th>gross</th>\n",
              "    </tr>\n",
              "  </thead>\n",
              "  <tbody>\n",
              "    <tr>\n",
              "      <th>num_user_for_reviews</th>\n",
              "      <td>1.428711e+05</td>\n",
              "      <td>1.531271e+10</td>\n",
              "    </tr>\n",
              "    <tr>\n",
              "      <th>gross</th>\n",
              "      <td>1.531271e+10</td>\n",
              "      <td>4.685812e+15</td>\n",
              "    </tr>\n",
              "  </tbody>\n",
              "</table>\n",
              "</div>"
            ],
            "text/plain": [
              "                      num_user_for_reviews         gross\n",
              "num_user_for_reviews          1.428711e+05  1.531271e+10\n",
              "gross                         1.531271e+10  4.685812e+15"
            ]
          },
          "execution_count": 153,
          "metadata": {},
          "output_type": "execute_result"
        }
      ]
    },
    {
      "cell_type": "code",
      "metadata": {
        "id": "5B67wPyaJTP_",
        "outputId": "138fb8bc-c3f4-48e2-e7df-8bc23c327230"
      },
      "source": [
        "review_relation.corr()"
      ],
      "execution_count": null,
      "outputs": [
        {
          "data": {
            "text/html": [
              "<div>\n",
              "<style scoped>\n",
              "    .dataframe tbody tr th:only-of-type {\n",
              "        vertical-align: middle;\n",
              "    }\n",
              "\n",
              "    .dataframe tbody tr th {\n",
              "        vertical-align: top;\n",
              "    }\n",
              "\n",
              "    .dataframe thead th {\n",
              "        text-align: right;\n",
              "    }\n",
              "</style>\n",
              "<table border=\"1\" class=\"dataframe\">\n",
              "  <thead>\n",
              "    <tr style=\"text-align: right;\">\n",
              "      <th></th>\n",
              "      <th>num_user_for_reviews</th>\n",
              "      <th>gross</th>\n",
              "    </tr>\n",
              "  </thead>\n",
              "  <tbody>\n",
              "    <tr>\n",
              "      <th>num_user_for_reviews</th>\n",
              "      <td>1.000000</td>\n",
              "      <td>0.559958</td>\n",
              "    </tr>\n",
              "    <tr>\n",
              "      <th>gross</th>\n",
              "      <td>0.559958</td>\n",
              "      <td>1.000000</td>\n",
              "    </tr>\n",
              "  </tbody>\n",
              "</table>\n",
              "</div>"
            ],
            "text/plain": [
              "                      num_user_for_reviews     gross\n",
              "num_user_for_reviews              1.000000  0.559958\n",
              "gross                             0.559958  1.000000"
            ]
          },
          "execution_count": 154,
          "metadata": {},
          "output_type": "execute_result"
        }
      ]
    },
    {
      "cell_type": "markdown",
      "metadata": {
        "id": "R5RouRxUJTP_"
      },
      "source": [
        "Scatterplot for Number of reviews vs gross"
      ]
    },
    {
      "cell_type": "code",
      "metadata": {
        "id": "RjG6jOJ9JTP_",
        "outputId": "ef0a823c-6126-4c4a-c19c-44b289869eff"
      },
      "source": [
        "df.plot.scatter(x='num_user_for_reviews', y ='gross')\n",
        "# make sure it's formatted.\n",
        "plt.title(\"User Reviews Vs. Gross\")\n",
        "plt.xlabel(\"Number of User Reviews\")\n",
        "plt.ylabel(\"Gross\")\n",
        "\n",
        "\n",
        "plt.show()"
      ],
      "execution_count": null,
      "outputs": [
        {
          "data": {
            "image/png": "[encoded data removed]",
            "text/plain": [
              "<Figure size 432x288 with 1 Axes>"
            ]
          },
          "metadata": {},
          "output_type": "display_data"
        }
      ]
    },
    {
      "cell_type": "markdown",
      "metadata": {
        "id": "74GP8-uKJTQA"
      },
      "source": [
        "The scatterplot Number of reviews vs Gross shows that the correlation is positive, it also is a strong positive \n",
        "correlation as seen by the correlation coefficent of just 0.56. \n",
        "This leads us to understand that an increase in the number of reviews will lead to an increase in the gross."
      ]
    },
    {
      "cell_type": "markdown",
      "metadata": {
        "id": "WLu0vxVWJTQA"
      },
      "source": [
        "Testing linearity for  facebook likes of the movie director (independent variable) and gross (dependent variable)"
      ]
    },
    {
      "cell_type": "code",
      "metadata": {
        "id": "XJPy-BiRJTQA"
      },
      "source": [
        "director_relation = df[['director_facebook_likes','gross']]"
      ],
      "execution_count": null,
      "outputs": []
    },
    {
      "cell_type": "code",
      "metadata": {
        "id": "c0BVhaTbJTQB",
        "outputId": "9a0b6f0f-1457-45dc-83c1-87d96180a3cd"
      },
      "source": [
        "director_relation.cov()"
      ],
      "execution_count": null,
      "outputs": [
        {
          "data": {
            "text/html": [
              "<div>\n",
              "<style scoped>\n",
              "    .dataframe tbody tr th:only-of-type {\n",
              "        vertical-align: middle;\n",
              "    }\n",
              "\n",
              "    .dataframe tbody tr th {\n",
              "        vertical-align: top;\n",
              "    }\n",
              "\n",
              "    .dataframe thead th {\n",
              "        text-align: right;\n",
              "    }\n",
              "</style>\n",
              "<table border=\"1\" class=\"dataframe\">\n",
              "  <thead>\n",
              "    <tr style=\"text-align: right;\">\n",
              "      <th></th>\n",
              "      <th>director_facebook_likes</th>\n",
              "      <th>gross</th>\n",
              "    </tr>\n",
              "  </thead>\n",
              "  <tbody>\n",
              "    <tr>\n",
              "      <th>director_facebook_likes</th>\n",
              "      <td>7.914818e+06</td>\n",
              "      <td>2.923878e+10</td>\n",
              "    </tr>\n",
              "    <tr>\n",
              "      <th>gross</th>\n",
              "      <td>2.923878e+10</td>\n",
              "      <td>4.685812e+15</td>\n",
              "    </tr>\n",
              "  </tbody>\n",
              "</table>\n",
              "</div>"
            ],
            "text/plain": [
              "                         director_facebook_likes         gross\n",
              "director_facebook_likes             7.914818e+06  2.923878e+10\n",
              "gross                               2.923878e+10  4.685812e+15"
            ]
          },
          "execution_count": 157,
          "metadata": {},
          "output_type": "execute_result"
        }
      ]
    },
    {
      "cell_type": "code",
      "metadata": {
        "id": "Et5NRIT-JTQB",
        "outputId": "04a200ab-fd23-4b3a-d910-21f59443b939"
      },
      "source": [
        "director_relation.corr()"
      ],
      "execution_count": null,
      "outputs": [
        {
          "data": {
            "text/html": [
              "<div>\n",
              "<style scoped>\n",
              "    .dataframe tbody tr th:only-of-type {\n",
              "        vertical-align: middle;\n",
              "    }\n",
              "\n",
              "    .dataframe tbody tr th {\n",
              "        vertical-align: top;\n",
              "    }\n",
              "\n",
              "    .dataframe thead th {\n",
              "        text-align: right;\n",
              "    }\n",
              "</style>\n",
              "<table border=\"1\" class=\"dataframe\">\n",
              "  <thead>\n",
              "    <tr style=\"text-align: right;\">\n",
              "      <th></th>\n",
              "      <th>director_facebook_likes</th>\n",
              "      <th>gross</th>\n",
              "    </tr>\n",
              "  </thead>\n",
              "  <tbody>\n",
              "    <tr>\n",
              "      <th>director_facebook_likes</th>\n",
              "      <td>1.000000</td>\n",
              "      <td>0.144945</td>\n",
              "    </tr>\n",
              "    <tr>\n",
              "      <th>gross</th>\n",
              "      <td>0.144945</td>\n",
              "      <td>1.000000</td>\n",
              "    </tr>\n",
              "  </tbody>\n",
              "</table>\n",
              "</div>"
            ],
            "text/plain": [
              "                         director_facebook_likes     gross\n",
              "director_facebook_likes                 1.000000  0.144945\n",
              "gross                                   0.144945  1.000000"
            ]
          },
          "execution_count": 180,
          "metadata": {},
          "output_type": "execute_result"
        }
      ]
    },
    {
      "cell_type": "markdown",
      "metadata": {
        "id": "DpdRsK2MJTQB"
      },
      "source": [
        "Scatterplot for director facebook likes vs gross"
      ]
    },
    {
      "cell_type": "code",
      "metadata": {
        "id": "nViogpnqJTQC",
        "outputId": "bb0339aa-38a1-411e-c7f2-aef9779e51fb"
      },
      "source": [
        "df.plot.scatter(x='director_facebook_likes', y ='gross')\n",
        "# make sure it's formatted.\n",
        "plt.title(\"Director Facebook likes Vs. Gross\")\n",
        "plt.xlabel(\"Number of Facebook likes Received\")\n",
        "plt.ylabel(\"Gross\")\n",
        "\n",
        "\n",
        "plt.show()"
      ],
      "execution_count": null,
      "outputs": [
        {
          "data": {
            "image/png": "[encoded data removed]",
            "text/plain": [
              "<Figure size 432x288 with 1 Axes>"
            ]
          },
          "metadata": {},
          "output_type": "display_data"
        }
      ]
    },
    {
      "cell_type": "markdown",
      "metadata": {
        "id": "Yj6FZsMXJTQC"
      },
      "source": [
        "The scatterplot Number of facebook likes vs Gross shows that while the correlation is positive, it is also very weak positive correlation as seen by the correlation coefficent of just 0.145. \n",
        "This leads us to understand that choosing a popular movie director for a movie will not lead to an increase in the gross."
      ]
    },
    {
      "cell_type": "markdown",
      "metadata": {
        "id": "NKAUEcWZJTQD"
      },
      "source": [
        "Testing linearity for rating (independent variable) and gross (dependent variable)"
      ]
    },
    {
      "cell_type": "code",
      "metadata": {
        "id": "3WUlYBz_JTQD"
      },
      "source": [
        "score_relation = df[['imdb_score','gross']]"
      ],
      "execution_count": null,
      "outputs": []
    },
    {
      "cell_type": "code",
      "metadata": {
        "id": "-QGs2hq2JTQD",
        "outputId": "78c94da0-8b31-4bcf-9856-94d614c0975e"
      },
      "source": [
        "score_relation.cov()"
      ],
      "execution_count": null,
      "outputs": [
        {
          "data": {
            "text/html": [
              "<div>\n",
              "<style scoped>\n",
              "    .dataframe tbody tr th:only-of-type {\n",
              "        vertical-align: middle;\n",
              "    }\n",
              "\n",
              "    .dataframe tbody tr th {\n",
              "        vertical-align: top;\n",
              "    }\n",
              "\n",
              "    .dataframe thead th {\n",
              "        text-align: right;\n",
              "    }\n",
              "</style>\n",
              "<table border=\"1\" class=\"dataframe\">\n",
              "  <thead>\n",
              "    <tr style=\"text-align: right;\">\n",
              "      <th></th>\n",
              "      <th>imdb_score</th>\n",
              "      <th>gross</th>\n",
              "    </tr>\n",
              "  </thead>\n",
              "  <tbody>\n",
              "    <tr>\n",
              "      <th>imdb_score</th>\n",
              "      <td>1.265886e+00</td>\n",
              "      <td>1.426249e+07</td>\n",
              "    </tr>\n",
              "    <tr>\n",
              "      <th>gross</th>\n",
              "      <td>1.426249e+07</td>\n",
              "      <td>4.685812e+15</td>\n",
              "    </tr>\n",
              "  </tbody>\n",
              "</table>\n",
              "</div>"
            ],
            "text/plain": [
              "              imdb_score         gross\n",
              "imdb_score  1.265886e+00  1.426249e+07\n",
              "gross       1.426249e+07  4.685812e+15"
            ]
          },
          "execution_count": 161,
          "metadata": {},
          "output_type": "execute_result"
        }
      ]
    },
    {
      "cell_type": "code",
      "metadata": {
        "id": "9MgkN0IQJTQD",
        "outputId": "4ae96573-97df-4b94-d97a-84d7c59225bc"
      },
      "source": [
        "score_relation.corr()"
      ],
      "execution_count": null,
      "outputs": [
        {
          "data": {
            "text/html": [
              "<div>\n",
              "<style scoped>\n",
              "    .dataframe tbody tr th:only-of-type {\n",
              "        vertical-align: middle;\n",
              "    }\n",
              "\n",
              "    .dataframe tbody tr th {\n",
              "        vertical-align: top;\n",
              "    }\n",
              "\n",
              "    .dataframe thead th {\n",
              "        text-align: right;\n",
              "    }\n",
              "</style>\n",
              "<table border=\"1\" class=\"dataframe\">\n",
              "  <thead>\n",
              "    <tr style=\"text-align: right;\">\n",
              "      <th></th>\n",
              "      <th>imdb_score</th>\n",
              "      <th>gross</th>\n",
              "    </tr>\n",
              "  </thead>\n",
              "  <tbody>\n",
              "    <tr>\n",
              "      <th>imdb_score</th>\n",
              "      <td>1.000000</td>\n",
              "      <td>0.198021</td>\n",
              "    </tr>\n",
              "    <tr>\n",
              "      <th>gross</th>\n",
              "      <td>0.198021</td>\n",
              "      <td>1.000000</td>\n",
              "    </tr>\n",
              "  </tbody>\n",
              "</table>\n",
              "</div>"
            ],
            "text/plain": [
              "            imdb_score     gross\n",
              "imdb_score    1.000000  0.198021\n",
              "gross         0.198021  1.000000"
            ]
          },
          "execution_count": 162,
          "metadata": {},
          "output_type": "execute_result"
        }
      ]
    },
    {
      "cell_type": "markdown",
      "metadata": {
        "id": "OUP-_PLzJTQE"
      },
      "source": [
        "Scatterplot for IMDB score vs gross"
      ]
    },
    {
      "cell_type": "code",
      "metadata": {
        "id": "uO2mmzVCJTQE",
        "outputId": "fafd7b4c-226d-4879-d30c-322d3f147a35"
      },
      "source": [
        "df.plot.scatter(x='imdb_score', y ='gross')\n",
        "# make sure it's formatted.\n",
        "plt.title(\"IMDB Score Vs. Gross\")\n",
        "plt.xlabel(\"IMDB Score\")\n",
        "plt.ylabel(\"Gross\")\n",
        "\n",
        "\n",
        "plt.show()"
      ],
      "execution_count": null,
      "outputs": [
        {
          "data": {
            "image/png": "[encoded data removed]",
            "text/plain": [
              "<Figure size 432x288 with 1 Axes>"
            ]
          },
          "metadata": {},
          "output_type": "display_data"
        }
      ]
    },
    {
      "cell_type": "markdown",
      "metadata": {
        "id": "n0kt0OTwJTQE"
      },
      "source": [
        "The scatterplot IMDB Score vs Gross shows that the correlation is positive, it is a weak positive correlation at 0.198. \n",
        "This leads us to understand that a good IMDB rating will likely not increase gross."
      ]
    },
    {
      "cell_type": "markdown",
      "metadata": {
        "id": "ZxthkQ0LJTQE"
      },
      "source": [
        "Testing linearity for popularity (independent variable) and gross (dependent variable)"
      ]
    },
    {
      "cell_type": "code",
      "metadata": {
        "id": "rrb8TgnBJTQF"
      },
      "source": [
        "facebook_relation = df[['movie_facebook_likes','gross']]"
      ],
      "execution_count": null,
      "outputs": []
    },
    {
      "cell_type": "code",
      "metadata": {
        "id": "JrcWk0ueJTQF",
        "outputId": "7f101711-fa1c-4633-9916-7f0bc69199bd"
      },
      "source": [
        "facebook_relation.cov()"
      ],
      "execution_count": null,
      "outputs": [
        {
          "data": {
            "text/html": [
              "<div>\n",
              "<style scoped>\n",
              "    .dataframe tbody tr th:only-of-type {\n",
              "        vertical-align: middle;\n",
              "    }\n",
              "\n",
              "    .dataframe tbody tr th {\n",
              "        vertical-align: top;\n",
              "    }\n",
              "\n",
              "    .dataframe thead th {\n",
              "        text-align: right;\n",
              "    }\n",
              "</style>\n",
              "<table border=\"1\" class=\"dataframe\">\n",
              "  <thead>\n",
              "    <tr style=\"text-align: right;\">\n",
              "      <th></th>\n",
              "      <th>movie_facebook_likes</th>\n",
              "      <th>gross</th>\n",
              "    </tr>\n",
              "  </thead>\n",
              "  <tbody>\n",
              "    <tr>\n",
              "      <th>movie_facebook_likes</th>\n",
              "      <td>3.732796e+08</td>\n",
              "      <td>5.380181e+11</td>\n",
              "    </tr>\n",
              "    <tr>\n",
              "      <th>gross</th>\n",
              "      <td>5.380181e+11</td>\n",
              "      <td>4.685812e+15</td>\n",
              "    </tr>\n",
              "  </tbody>\n",
              "</table>\n",
              "</div>"
            ],
            "text/plain": [
              "                      movie_facebook_likes         gross\n",
              "movie_facebook_likes          3.732796e+08  5.380181e+11\n",
              "gross                         5.380181e+11  4.685812e+15"
            ]
          },
          "execution_count": 166,
          "metadata": {},
          "output_type": "execute_result"
        }
      ]
    },
    {
      "cell_type": "code",
      "metadata": {
        "id": "ktbqhXFtJTQF",
        "outputId": "06fe666f-a362-49b0-90a6-1fee62738346"
      },
      "source": [
        "facebook_relation.corr()"
      ],
      "execution_count": null,
      "outputs": [
        {
          "data": {
            "text/html": [
              "<div>\n",
              "<style scoped>\n",
              "    .dataframe tbody tr th:only-of-type {\n",
              "        vertical-align: middle;\n",
              "    }\n",
              "\n",
              "    .dataframe tbody tr th {\n",
              "        vertical-align: top;\n",
              "    }\n",
              "\n",
              "    .dataframe thead th {\n",
              "        text-align: right;\n",
              "    }\n",
              "</style>\n",
              "<table border=\"1\" class=\"dataframe\">\n",
              "  <thead>\n",
              "    <tr style=\"text-align: right;\">\n",
              "      <th></th>\n",
              "      <th>movie_facebook_likes</th>\n",
              "      <th>gross</th>\n",
              "    </tr>\n",
              "  </thead>\n",
              "  <tbody>\n",
              "    <tr>\n",
              "      <th>movie_facebook_likes</th>\n",
              "      <td>1.000000</td>\n",
              "      <td>0.378082</td>\n",
              "    </tr>\n",
              "    <tr>\n",
              "      <th>gross</th>\n",
              "      <td>0.378082</td>\n",
              "      <td>1.000000</td>\n",
              "    </tr>\n",
              "  </tbody>\n",
              "</table>\n",
              "</div>"
            ],
            "text/plain": [
              "                      movie_facebook_likes     gross\n",
              "movie_facebook_likes              1.000000  0.378082\n",
              "gross                             0.378082  1.000000"
            ]
          },
          "execution_count": 167,
          "metadata": {},
          "output_type": "execute_result"
        }
      ]
    },
    {
      "cell_type": "markdown",
      "metadata": {
        "id": "5XHabc7oJTQF"
      },
      "source": [
        "Scatterplot for Movie facebook likes vs gross"
      ]
    },
    {
      "cell_type": "code",
      "metadata": {
        "id": "XOrRvO-0JTQG",
        "outputId": "c538b518-2127-4934-aaaf-d0280f1e8a21"
      },
      "source": [
        "df.plot.scatter(x='movie_facebook_likes', y ='gross')\n",
        "# make sure it's formatted.\n",
        "plt.title(\"Movie Facebook Likes Vs. Gross\")\n",
        "plt.xlabel(\"Facebook likes\")\n",
        "plt.ylabel(\"Gross\")\n",
        "\n",
        "\n",
        "plt.show()"
      ],
      "execution_count": null,
      "outputs": [
        {
          "data": {
            "image/png": "[encoded data removed]",
            "text/plain": [
              "<Figure size 432x288 with 1 Axes>"
            ]
          },
          "metadata": {},
          "output_type": "display_data"
        }
      ]
    },
    {
      "cell_type": "markdown",
      "metadata": {
        "id": "MpIqX3ndJTQG"
      },
      "source": [
        "The scatterplot facebook likes vs Gross shows that the correlation is weak. The number of facebook likes do not increase gross  \n",
        "This leads us to understand that a having more facebook likes rating will increase gross."
      ]
    },
    {
      "cell_type": "markdown",
      "metadata": {
        "id": "QLiMh-t-JTQG"
      },
      "source": [
        "## Step 4 : Build the model"
      ]
    },
    {
      "cell_type": "markdown",
      "metadata": {
        "id": "fESyjuZjJTQG"
      },
      "source": [
        "In this section we perform multiple linear regression \n",
        "Our explanatory variables are: budget, num_user_for_reviews, director_facebook_likes, imdb_score, movie_facebook_likes\n",
        "The dependent variable is: gross\n"
      ]
    },
    {
      "cell_type": "code",
      "metadata": {
        "id": "iH9zE19wJTQG",
        "outputId": "928c223d-bc36-4ada-9624-3087709ae573"
      },
      "source": [
        "\n",
        "import statsmodels.api as sm\n",
        "\n",
        "X = df[['budget','num_user_for_reviews','director_facebook_likes','imdb_score','movie_facebook_likes',]]# here we have 2 variables for the multiple linear regression. If you just want to use one variable for simple linear regression, then use X = df['Interest_Rate'] for example\n",
        "Y = df['gross']\n",
        "\n",
        "X = sm.add_constant(X) # adding a constant\n",
        "\n",
        "\n",
        "model = sm.OLS(Y, X, missing='drop').fit()\n",
        "predictions = model.predict(X) \n",
        "\n",
        "print_model = model.summary()\n",
        "print(print_model)"
      ],
      "execution_count": null,
      "outputs": [
        {
          "name": "stdout",
          "output_type": "stream",
          "text": [
            "                            OLS Regression Results                            \n",
            "==============================================================================\n",
            "Dep. Variable:                  gross   R-squared:                       0.341\n",
            "Model:                            OLS   Adj. R-squared:                  0.340\n",
            "Method:                 Least Squares   F-statistic:                     402.2\n",
            "Date:                Thu, 12 Nov 2020   Prob (F-statistic):               0.00\n",
            "Time:                        15:55:49   Log-Likelihood:                -74985.\n",
            "No. Observations:                3891   AIC:                         1.500e+05\n",
            "Df Residuals:                    3885   BIC:                         1.500e+05\n",
            "Df Model:                           5                                         \n",
            "Covariance Type:            nonrobust                                         \n",
            "===========================================================================================\n",
            "                              coef    std err          t      P>|t|      [0.025      0.975]\n",
            "-------------------------------------------------------------------------------------------\n",
            "const                     1.61e+07   5.85e+06      2.755      0.006    4.64e+06    2.76e+07\n",
            "budget                      0.0178      0.004      4.342      0.000       0.010       0.026\n",
            "num_user_for_reviews     8.103e+04   2508.740     32.299      0.000    7.61e+04    8.59e+04\n",
            "director_facebook_likes   107.7151    312.116      0.345      0.730    -504.212     719.643\n",
            "imdb_score               2.773e+05    9.3e+05      0.298      0.766   -1.55e+06     2.1e+06\n",
            "movie_facebook_likes      628.8838     46.947     13.396      0.000     536.841     720.926\n",
            "==============================================================================\n",
            "Omnibus:                     1731.445   Durbin-Watson:                   1.321\n",
            "Prob(Omnibus):                  0.000   Jarque-Bera (JB):            17086.425\n",
            "Skew:                           1.860   Prob(JB):                         0.00\n",
            "Kurtosis:                      12.568   Cond. No.                     1.48e+09\n",
            "==============================================================================\n",
            "\n",
            "Warnings:\n",
            "[1] Standard Errors assume that the covariance matrix of the errors is correctly specified.\n",
            "[2] The condition number is large, 1.48e+09. This might indicate that there are\n",
            "strong multicollinearity or other numerical problems.\n"
          ]
        }
      ]
    },
    {
      "cell_type": "markdown",
      "metadata": {
        "id": "171koO2cJTQH"
      },
      "source": [
        "## Hypothesis Testing:"
      ]
    },
    {
      "cell_type": "markdown",
      "metadata": {
        "id": "n6DMuyfHJTQH"
      },
      "source": [
        "(i) Null Hypothesis: There is no relationship between the exploratory variables and the explanatory variable.\n",
        "(ii) Alternative Hypothesis: There is a relationship between the exploratory variables and the explanatory variable.\n",
        "\n",
        "If we reject the null, we are saying there is a relationship, and the coefficients do not equal 0.\n",
        "If we fail to reject the null, we are saying there is no relationship, and the coefficients do equal 0"
      ]
    },
    {
      "cell_type": "markdown",
      "metadata": {
        "id": "hwcm8lHiJTQH"
      },
      "source": [
        "From our regression table we will remove the coefficients that have p-values greater than 0.05 as these are irrelevant to us since they are outside of our confidence intervals. "
      ]
    },
    {
      "cell_type": "code",
      "metadata": {
        "id": "C7YoH3HmJTQH",
        "outputId": "dfef9c87-32ef-4718-a262-02b7d96a9af0"
      },
      "source": [
        "import statsmodels.api as sm\n",
        "\n",
        "X = df[['budget','num_user_for_reviews','movie_facebook_likes',]]# here we have 2 variables for the multiple linear regression. If you just want to use one variable for simple linear regression, then use X = df['Interest_Rate'] for example\n",
        "Y = df['gross']\n",
        "\n",
        "X = sm.add_constant(X) # adding a constant\n",
        "\n",
        "\n",
        "model = sm.OLS(Y, X, missing='drop').fit()\n",
        "predictions = model.predict(X) \n",
        "\n",
        "print_model = model.summary()\n",
        "print(print_model)"
      ],
      "execution_count": null,
      "outputs": [
        {
          "name": "stdout",
          "output_type": "stream",
          "text": [
            "                            OLS Regression Results                            \n",
            "==============================================================================\n",
            "Dep. Variable:                  gross   R-squared:                       0.341\n",
            "Model:                            OLS   Adj. R-squared:                  0.341\n",
            "Method:                 Least Squares   F-statistic:                     670.6\n",
            "Date:                Thu, 12 Nov 2020   Prob (F-statistic):               0.00\n",
            "Time:                        16:24:02   Log-Likelihood:                -74985.\n",
            "No. Observations:                3891   AIC:                         1.500e+05\n",
            "Df Residuals:                    3887   BIC:                         1.500e+05\n",
            "Df Model:                           3                                         \n",
            "Covariance Type:            nonrobust                                         \n",
            "========================================================================================\n",
            "                           coef    std err          t      P>|t|      [0.025      0.975]\n",
            "----------------------------------------------------------------------------------------\n",
            "const                 1.784e+07   1.18e+06     15.134      0.000    1.55e+07    2.01e+07\n",
            "budget                   0.0178      0.004      4.344      0.000       0.010       0.026\n",
            "num_user_for_reviews  8.136e+04   2408.784     33.776      0.000    7.66e+04    8.61e+04\n",
            "movie_facebook_likes   632.8077     46.080     13.733      0.000     542.465     723.150\n",
            "==============================================================================\n",
            "Omnibus:                     1731.588   Durbin-Watson:                   1.321\n",
            "Prob(Omnibus):                  0.000   Jarque-Bera (JB):            17069.572\n",
            "Skew:                           1.861   Prob(JB):                         0.00\n",
            "Kurtosis:                      12.562   Cond. No.                     2.94e+08\n",
            "==============================================================================\n",
            "\n",
            "Warnings:\n",
            "[1] Standard Errors assume that the covariance matrix of the errors is correctly specified.\n",
            "[2] The condition number is large, 2.94e+08. This might indicate that there are\n",
            "strong multicollinearity or other numerical problems.\n"
          ]
        }
      ]
    },
    {
      "cell_type": "markdown",
      "metadata": {
        "id": "lHtGebDUJTQI"
      },
      "source": [
        "The explanatory variables that we use after removing the irrelevant variables have a p-value less than 0.05 which means they are all relevant to our model."
      ]
    },
    {
      "cell_type": "markdown",
      "metadata": {
        "id": "qq0EV355JTQI"
      },
      "source": [
        "## Summary of findings:"
      ]
    },
    {
      "cell_type": "markdown",
      "metadata": {
        "id": "wbTUUztFJTQI"
      },
      "source": [
        "To summarise, we have been able to establish some linear correlations between a number of independent variables and our dependent variable which is gross.\n",
        "\n",
        "We found that there are some independent variables that have a strong positive correlation with the gross meaning that by increasing them, the gross of the movie is also likely to increase. The most significant variable was found to be the num_user_for_review, meaning that if the movie gets more user reviews it will likely increase in gross income earmned. The least significant factor was found to be the budget. The relationship shows that there is no linear relationship between budget and the gross meaning that an increase in budget will likely not lead to a increase in gross. Director reviews and IMDB rating also showed a very weak relationship, while number of facebook likes showed a relatively sginificant positive correlation with gross.\n",
        "\n",
        "Using the model we found two irrelevant variables, namely director_facebook_likes and IMDB score which we removed."
      ]
    },
    {
      "cell_type": "markdown",
      "metadata": {
        "id": "WJ_lcBezJTQJ"
      },
      "source": [
        "## Conclusion:"
      ]
    },
    {
      "cell_type": "markdown",
      "metadata": {
        "id": "W7ZyI0wxJTQJ"
      },
      "source": [
        "In conclusion, we found that budget does not impact on gross meaning that increasing the budget will unlikely lead to an increase in gross. Therefore, we recommend that the budget be kept low to give the movie a good to have a much higher gross than the budget. However, a significant factor is the number of user review so we recommend spending more time on marketing the movie to users/watchers or soliciting for more reviews from users as this will likely have a strong positive relationship to the gross.\n",
        "\n",
        "The factors that are significant in predicting gross are Budget, user reviews, and number of facebook likes as seen in our final model. Using these variables it is possible to predict gross of the movie."
      ]
    },
    {
      "cell_type": "code",
      "metadata": {
        "id": "ZSvRHv1cJTQK"
      },
      "source": [
        ""
      ],
      "execution_count": null,
      "outputs": []
    }
  ]
}